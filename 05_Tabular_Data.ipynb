{
 "cells": [
  {
   "cell_type": "markdown",
   "id": "1a07af8a-ca0b-47ca-98b7-c80ec0a71c26",
   "metadata": {},
   "source": [
    "# Klassifikation tabularer Daten"
   ]
  },
  {
   "cell_type": "markdown",
   "id": "c78c656e-aee6-439d-8e1d-6bea7a467a2e",
   "metadata": {},
   "source": [
    "## Imports"
   ]
  },
  {
   "cell_type": "code",
   "execution_count": 3,
   "id": "053cfdab-8c84-40a4-908d-3b77b0537c82",
   "metadata": {},
   "outputs": [],
   "source": [
    "import numpy as np\n",
    "import pandas as pd\n",
    "from sklearn.model_selection import train_test_split,cross_validate\n",
    "from sklearn.pipeline import make_pipeline\n",
    "from sklearn.ensemble import RandomForestClassifier\n",
    "from sklearn.preprocessing import OrdinalEncoder,LabelEncoder\n",
    "from sklearn.compose import make_column_selector\n",
    "from sklearn.compose import make_column_transformer\n",
    "from sklearn.metrics import accuracy_score,ConfusionMatrixDisplay,confusion_matrix\n",
    "import matplotlib.pyplot as plt"
   ]
  },
  {
   "cell_type": "markdown",
   "id": "3a62935e-2f79-45e6-a712-07fbed1c213a",
   "metadata": {},
   "source": [
    "## Data Preparation"
   ]
  },
  {
   "cell_type": "markdown",
   "id": "d90249dd-5f0c-4301-9ba2-625008187632",
   "metadata": {},
   "source": [
    "Wir betrachten den bekannten [\"Adult\"-Datensatz](https://archive.ics.uci.edu/ml/datasets/Adult), welcher Zensusdaten zum Einkommen von Personen aus dem Jahr 1994 enthält. Die Aufgabe ist die korrekte Vorhersage, ob eine Person mehr oder weniger als 50.000 USD im Jahr verdient."
   ]
  },
  {
   "cell_type": "code",
   "execution_count": 30,
   "id": "09e54b12-9c0c-4f98-b966-55a107ca14c4",
   "metadata": {},
   "outputs": [],
   "source": [
    "cols = ['age','workclass','fnlwgt','education','education-num','marital_status','occupation','relationship','race','sex','capital-gain','capital-loss','hours-per-week','native-country','income']"
   ]
  },
  {
   "cell_type": "code",
   "execution_count": 31,
   "id": "3f6eeae1-d642-490d-be6f-b5f4e8c5d158",
   "metadata": {},
   "outputs": [],
   "source": [
    "df = pd.read_csv('./data/tabular_data/adult.data', names=cols)"
   ]
  },
  {
   "cell_type": "code",
   "execution_count": 32,
   "id": "bf340b1a-b332-4005-bdba-259a1cf05796",
   "metadata": {},
   "outputs": [],
   "source": [
    "df.drop(['fnlwgt','education-num'],axis=1,inplace=True)"
   ]
  },
  {
   "cell_type": "code",
   "execution_count": 33,
   "id": "23122c04-ef6d-4675-8cf4-47752bf28176",
   "metadata": {},
   "outputs": [
    {
     "data": {
      "text/html": [
       "<div>\n",
       "<style scoped>\n",
       "    .dataframe tbody tr th:only-of-type {\n",
       "        vertical-align: middle;\n",
       "    }\n",
       "\n",
       "    .dataframe tbody tr th {\n",
       "        vertical-align: top;\n",
       "    }\n",
       "\n",
       "    .dataframe thead th {\n",
       "        text-align: right;\n",
       "    }\n",
       "</style>\n",
       "<table border=\"1\" class=\"dataframe\">\n",
       "  <thead>\n",
       "    <tr style=\"text-align: right;\">\n",
       "      <th></th>\n",
       "      <th>age</th>\n",
       "      <th>workclass</th>\n",
       "      <th>education</th>\n",
       "      <th>marital_status</th>\n",
       "      <th>occupation</th>\n",
       "      <th>relationship</th>\n",
       "      <th>race</th>\n",
       "      <th>sex</th>\n",
       "      <th>capital-gain</th>\n",
       "      <th>capital-loss</th>\n",
       "      <th>hours-per-week</th>\n",
       "      <th>native-country</th>\n",
       "      <th>income</th>\n",
       "    </tr>\n",
       "  </thead>\n",
       "  <tbody>\n",
       "    <tr>\n",
       "      <th>0</th>\n",
       "      <td>39</td>\n",
       "      <td>State-gov</td>\n",
       "      <td>Bachelors</td>\n",
       "      <td>Never-married</td>\n",
       "      <td>Adm-clerical</td>\n",
       "      <td>Not-in-family</td>\n",
       "      <td>White</td>\n",
       "      <td>Male</td>\n",
       "      <td>2174</td>\n",
       "      <td>0</td>\n",
       "      <td>40</td>\n",
       "      <td>United-States</td>\n",
       "      <td>&lt;=50K</td>\n",
       "    </tr>\n",
       "    <tr>\n",
       "      <th>1</th>\n",
       "      <td>50</td>\n",
       "      <td>Self-emp-not-inc</td>\n",
       "      <td>Bachelors</td>\n",
       "      <td>Married-civ-spouse</td>\n",
       "      <td>Exec-managerial</td>\n",
       "      <td>Husband</td>\n",
       "      <td>White</td>\n",
       "      <td>Male</td>\n",
       "      <td>0</td>\n",
       "      <td>0</td>\n",
       "      <td>13</td>\n",
       "      <td>United-States</td>\n",
       "      <td>&lt;=50K</td>\n",
       "    </tr>\n",
       "    <tr>\n",
       "      <th>2</th>\n",
       "      <td>38</td>\n",
       "      <td>Private</td>\n",
       "      <td>HS-grad</td>\n",
       "      <td>Divorced</td>\n",
       "      <td>Handlers-cleaners</td>\n",
       "      <td>Not-in-family</td>\n",
       "      <td>White</td>\n",
       "      <td>Male</td>\n",
       "      <td>0</td>\n",
       "      <td>0</td>\n",
       "      <td>40</td>\n",
       "      <td>United-States</td>\n",
       "      <td>&lt;=50K</td>\n",
       "    </tr>\n",
       "    <tr>\n",
       "      <th>3</th>\n",
       "      <td>53</td>\n",
       "      <td>Private</td>\n",
       "      <td>11th</td>\n",
       "      <td>Married-civ-spouse</td>\n",
       "      <td>Handlers-cleaners</td>\n",
       "      <td>Husband</td>\n",
       "      <td>Black</td>\n",
       "      <td>Male</td>\n",
       "      <td>0</td>\n",
       "      <td>0</td>\n",
       "      <td>40</td>\n",
       "      <td>United-States</td>\n",
       "      <td>&lt;=50K</td>\n",
       "    </tr>\n",
       "    <tr>\n",
       "      <th>4</th>\n",
       "      <td>28</td>\n",
       "      <td>Private</td>\n",
       "      <td>Bachelors</td>\n",
       "      <td>Married-civ-spouse</td>\n",
       "      <td>Prof-specialty</td>\n",
       "      <td>Wife</td>\n",
       "      <td>Black</td>\n",
       "      <td>Female</td>\n",
       "      <td>0</td>\n",
       "      <td>0</td>\n",
       "      <td>40</td>\n",
       "      <td>Cuba</td>\n",
       "      <td>&lt;=50K</td>\n",
       "    </tr>\n",
       "  </tbody>\n",
       "</table>\n",
       "</div>"
      ],
      "text/plain": [
       "   age          workclass   education       marital_status  \\\n",
       "0   39          State-gov   Bachelors        Never-married   \n",
       "1   50   Self-emp-not-inc   Bachelors   Married-civ-spouse   \n",
       "2   38            Private     HS-grad             Divorced   \n",
       "3   53            Private        11th   Married-civ-spouse   \n",
       "4   28            Private   Bachelors   Married-civ-spouse   \n",
       "\n",
       "           occupation    relationship    race      sex  capital-gain  \\\n",
       "0        Adm-clerical   Not-in-family   White     Male          2174   \n",
       "1     Exec-managerial         Husband   White     Male             0   \n",
       "2   Handlers-cleaners   Not-in-family   White     Male             0   \n",
       "3   Handlers-cleaners         Husband   Black     Male             0   \n",
       "4      Prof-specialty            Wife   Black   Female             0   \n",
       "\n",
       "   capital-loss  hours-per-week  native-country  income  \n",
       "0             0              40   United-States   <=50K  \n",
       "1             0              13   United-States   <=50K  \n",
       "2             0              40   United-States   <=50K  \n",
       "3             0              40   United-States   <=50K  \n",
       "4             0              40            Cuba   <=50K  "
      ]
     },
     "execution_count": 33,
     "metadata": {},
     "output_type": "execute_result"
    }
   ],
   "source": [
    "df.head()"
   ]
  },
  {
   "cell_type": "code",
   "execution_count": 34,
   "id": "ac253ec1-ee91-496f-87ec-bb83826c4b9e",
   "metadata": {},
   "outputs": [
    {
     "name": "stdout",
     "output_type": "stream",
     "text": [
      "<class 'pandas.core.frame.DataFrame'>\n",
      "RangeIndex: 32561 entries, 0 to 32560\n",
      "Data columns (total 13 columns):\n",
      " #   Column          Non-Null Count  Dtype \n",
      "---  ------          --------------  ----- \n",
      " 0   age             32561 non-null  int64 \n",
      " 1   workclass       32561 non-null  object\n",
      " 2   education       32561 non-null  object\n",
      " 3   marital_status  32561 non-null  object\n",
      " 4   occupation      32561 non-null  object\n",
      " 5   relationship    32561 non-null  object\n",
      " 6   race            32561 non-null  object\n",
      " 7   sex             32561 non-null  object\n",
      " 8   capital-gain    32561 non-null  int64 \n",
      " 9   capital-loss    32561 non-null  int64 \n",
      " 10  hours-per-week  32561 non-null  int64 \n",
      " 11  native-country  32561 non-null  object\n",
      " 12  income          32561 non-null  object\n",
      "dtypes: int64(4), object(9)\n",
      "memory usage: 3.2+ MB\n"
     ]
    }
   ],
   "source": [
    "df.info()"
   ]
  },
  {
   "cell_type": "markdown",
   "id": "d3981ab9-6335-4240-9f7b-451e2b54aa98",
   "metadata": {},
   "source": [
    "Encoding der Klasse $\\mathbf{y}$ und Erstellung der *Merkmalsmatrix* $\\mathbf{X}$:"
   ]
  },
  {
   "cell_type": "code",
   "execution_count": 35,
   "id": "f451f63d-844a-4cd5-9ab6-1601b77694a7",
   "metadata": {},
   "outputs": [],
   "source": [
    "le = LabelEncoder()\n",
    "df['label_encoded'] = le.fit_transform(df['income'])"
   ]
  },
  {
   "cell_type": "code",
   "execution_count": 36,
   "id": "73165c39-802b-449a-bf5a-1c2f77de04c6",
   "metadata": {},
   "outputs": [],
   "source": [
    "y = df['label_encoded']\n",
    "X = df.drop(['income','label_encoded'], axis=1)"
   ]
  },
  {
   "cell_type": "markdown",
   "id": "d1119090-157c-41d9-9660-8fc87c167729",
   "metadata": {},
   "source": [
    "Aufteilung der Daten in **Trainings-** und **Testdaten**:"
   ]
  },
  {
   "cell_type": "code",
   "execution_count": 37,
   "id": "c8299fc1-15c6-480f-a636-cc176d2648a1",
   "metadata": {},
   "outputs": [],
   "source": [
    "X_train, X_test, y_train, y_test = \\\n",
    "    train_test_split(X, y, \n",
    "                     test_size=0.15,\n",
    "                     stratify = y,\n",
    "                     random_state=1)"
   ]
  },
  {
   "cell_type": "markdown",
   "id": "59a2a43e-f3a7-4e04-9be4-3a885a6b48f7",
   "metadata": {},
   "source": [
    "## Modeling"
   ]
  },
  {
   "cell_type": "code",
   "execution_count": 38,
   "id": "59626a1c-b9ce-4eb4-b0a0-96563d85bb4f",
   "metadata": {},
   "outputs": [],
   "source": [
    "ct = make_column_transformer(\n",
    "     (OrdinalEncoder(handle_unknown='use_encoded_value',unknown_value=np.nan), make_column_selector(dtype_include=[object,bool])),\n",
    "     remainder='passthrough')"
   ]
  },
  {
   "cell_type": "code",
   "execution_count": 39,
   "id": "f40daac7-8acb-489e-a245-bddefb77852e",
   "metadata": {},
   "outputs": [],
   "source": [
    "pipe_rf = make_pipeline(ct,\n",
    "                        RandomForestClassifier(random_state=1)\n",
    "                       )"
   ]
  },
  {
   "cell_type": "code",
   "execution_count": 41,
   "id": "0b081080-a6da-49af-a896-cd5b0569f219",
   "metadata": {},
   "outputs": [],
   "source": [
    "rf_cls = pipe_rf.fit(X_train,y_train)"
   ]
  },
  {
   "cell_type": "markdown",
   "id": "c6fa834d-66e9-4cde-bc0f-4c45e7fa231e",
   "metadata": {},
   "source": [
    "## Evaluation"
   ]
  },
  {
   "cell_type": "code",
   "execution_count": 42,
   "id": "98043020-939d-4ad1-a1aa-3fc616de2317",
   "metadata": {},
   "outputs": [],
   "source": [
    "y_pred = rf_cls.predict(X_test)"
   ]
  },
  {
   "cell_type": "code",
   "execution_count": 43,
   "id": "4f278702-6425-4bb2-b791-eec155e13b9e",
   "metadata": {},
   "outputs": [
    {
     "name": "stdout",
     "output_type": "stream",
     "text": [
      "Genauigkeit auf den Trainingsdaten: 97.80%\n"
     ]
    }
   ],
   "source": [
    "print(f'Genauigkeit auf den Trainingsdaten: {rf_cls.score(X_train,y_train):.2%}')"
   ]
  },
  {
   "cell_type": "code",
   "execution_count": 44,
   "id": "286e7bd3-c5bc-47b9-ab87-dadf5f425c03",
   "metadata": {},
   "outputs": [
    {
     "name": "stdout",
     "output_type": "stream",
     "text": [
      "Genauigkeit auf den Testdaten: 84.69%\n"
     ]
    }
   ],
   "source": [
    "print(f'Genauigkeit auf den Testdaten: {rf_cls.score(X_test,y_test):.2%}')"
   ]
  },
  {
   "cell_type": "code",
   "execution_count": 45,
   "id": "1365609c-ecfb-46b0-965f-ded26f1785b6",
   "metadata": {},
   "outputs": [
    {
     "name": "stdout",
     "output_type": "stream",
     "text": [
      "Null-Accuracy: 75.93%\n"
     ]
    }
   ],
   "source": [
    "print(f'Null-Accuracy: {y_test.value_counts().iloc[0]/sum(y_test.value_counts()):.2%}')"
   ]
  },
  {
   "cell_type": "code",
   "execution_count": 46,
   "id": "bfbf7671-b7c6-46ac-82db-643ed7512a22",
   "metadata": {},
   "outputs": [],
   "source": [
    "%matplotlib inline"
   ]
  },
  {
   "cell_type": "code",
   "execution_count": 47,
   "id": "f44a5339-1776-438a-b767-9c4cc753babd",
   "metadata": {},
   "outputs": [
    {
     "data": {
      "image/png": "[encoded data removed]",
      "text/plain": [
       "<Figure size 576x576 with 1 Axes>"
      ]
     },
     "metadata": {
      "needs_background": "light"
     },
     "output_type": "display_data"
    }
   ],
   "source": [
    "fig,ax = plt.subplots(figsize=(8,8))\n",
    "cm = confusion_matrix(y_test,y_pred)\n",
    "cmp = ConfusionMatrixDisplay(cm, display_labels=le.classes_)\n",
    "cmp.plot(ax=ax,cmap='Blues',colorbar=False);"
   ]
  },
  {
   "cell_type": "markdown",
   "id": "0eb50e6a-1b31-42c2-8ed9-feca927008cc",
   "metadata": {},
   "source": [
    "### Feature Importance - wie wichtig sind die Merkmale für die Vorhersage des Modells?"
   ]
  },
  {
   "cell_type": "code",
   "execution_count": 50,
   "id": "7af29ad6-4d44-4f61-a00e-513756e908c0",
   "metadata": {},
   "outputs": [],
   "source": [
    "fi = rf_cls.get_params()['randomforestclassifier'].feature_importances_\n",
    "fi_list = sorted(list(zip(X_train.columns.values, fi)), key=lambda tup: tup[1], reverse=True)"
   ]
  },
  {
   "cell_type": "code",
   "execution_count": 51,
   "id": "7185ee54-e261-48c0-bbd6-1853f31fa292",
   "metadata": {},
   "outputs": [
    {
     "name": "stdout",
     "output_type": "stream",
     "text": [
      "capital-gain - 22.04%\n",
      "capital-loss - 13.44%\n",
      "occupation - 11.45%\n",
      "native-country - 11.07%\n",
      "workclass - 10.30%\n",
      "marital_status - 9.43%\n",
      "education - 7.32%\n",
      "age - 5.18%\n",
      "hours-per-week - 4.55%\n",
      "sex - 2.16%\n",
      "relationship - 1.84%\n",
      "race - 1.22%\n"
     ]
    }
   ],
   "source": [
    "for fi in fi_list:\n",
    "    print(f'{fi[0]} - {fi[1]:.2%}')"
   ]
  }
 ],
 "metadata": {
  "kernelspec": {
   "display_name": "Python 3",
   "language": "python",
   "name": "python3"
  },
  "language_info": {
   "codemirror_mode": {
    "name": "ipython",
    "version": 3
   },
   "file_extension": ".py",
   "mimetype": "text/x-python",
   "name": "python",
   "nbconvert_exporter": "python",
   "pygments_lexer": "ipython3",
   "version": "3.9.10"
  }
 },
 "nbformat": 4,
 "nbformat_minor": 5
}
