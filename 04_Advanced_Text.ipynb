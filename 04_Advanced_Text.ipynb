{
 "cells": [
  {
   "cell_type": "markdown",
   "id": "d5c0a3a5-729a-430c-8991-fa9c9a197ccb",
   "metadata": {},
   "source": [
    "# Advanced Text Tasks with pretrained transformer models"
   ]
  },
  {
   "cell_type": "markdown",
   "id": "cf35ad26-3e08-40c6-a3bb-518acc47cea1",
   "metadata": {},
   "source": [
    "Inference based on *Huggingface Transformers*: https://huggingface.co/docs/transformers/v4.18.0/en/index"
   ]
  },
  {
   "cell_type": "code",
   "execution_count": null,
   "id": "7128051f-25b8-42e0-af73-78011a82fc8d",
   "metadata": {},
   "outputs": [],
   "source": [
    "from transformers import pipeline"
   ]
  },
  {
   "cell_type": "markdown",
   "id": "2666b0f1-d080-41f2-8aa2-214c56b09f17",
   "metadata": {
    "tags": []
   },
   "source": [
    "## Text Classification"
   ]
  },
  {
   "cell_type": "code",
   "execution_count": 2,
   "id": "f7bb3237-7a02-4013-9430-670f0b215d64",
   "metadata": {},
   "outputs": [
    {
     "name": "stderr",
     "output_type": "stream",
     "text": [
      "No model was supplied, defaulted to distilbert-base-uncased-finetuned-sst-2-english (https://huggingface.co/distilbert-base-uncased-finetuned-sst-2-english)\n"
     ]
    }
   ],
   "source": [
    "classifier = pipeline(\"sentiment-analysis\")"
   ]
  },
  {
   "cell_type": "code",
   "execution_count": 5,
   "id": "8bc87b39-b1de-43a2-a532-62612bf2e47c",
   "metadata": {},
   "outputs": [],
   "source": [
    "text = ['I love you','I hate you', 'I think we have a love-hate relationship']"
   ]
  },
  {
   "cell_type": "code",
   "execution_count": 6,
   "id": "af485443-59ab-411f-83f7-663d382e16b3",
   "metadata": {},
   "outputs": [
    {
     "data": {
      "text/plain": [
       "[{'label': 'POSITIVE', 'score': 0.9998656511306763},\n",
       " {'label': 'NEGATIVE', 'score': 0.9991129040718079},\n",
       " {'label': 'NEGATIVE', 'score': 0.9820735454559326}]"
      ]
     },
     "execution_count": 6,
     "metadata": {},
     "output_type": "execute_result"
    }
   ],
   "source": [
    "classifier(text)"
   ]
  },
  {
   "cell_type": "markdown",
   "id": "a66bc57f-8dc8-4a98-b596-bb611c1c9891",
   "metadata": {
    "tags": []
   },
   "source": [
    "## Text Generation"
   ]
  },
  {
   "cell_type": "markdown",
   "id": "77576f55-278c-4809-a68e-078dfd3e417c",
   "metadata": {},
   "source": [
    "[Limitations and bias](https://huggingface.co/gpt2?text=A+long+time+ago%2C#limitations-and-bias)"
   ]
  },
  {
   "cell_type": "code",
   "execution_count": 7,
   "id": "42a6eb80-effc-4452-b917-58f3e6576bb3",
   "metadata": {},
   "outputs": [
    {
     "name": "stderr",
     "output_type": "stream",
     "text": [
      "No model was supplied, defaulted to gpt2 (https://huggingface.co/gpt2)\n"
     ]
    },
    {
     "data": {
      "application/vnd.jupyter.widget-view+json": {
       "model_id": "21b34c1c7a324da4895960e0c23c2649",
       "version_major": 2,
       "version_minor": 0
      },
      "text/plain": [
       "Downloading:   0%|          | 0.00/665 [00:00<?, ?B/s]"
      ]
     },
     "metadata": {},
     "output_type": "display_data"
    },
    {
     "data": {
      "application/vnd.jupyter.widget-view+json": {
       "model_id": "c6d61b1bed7d4ebcb97c1f67f1405ce3",
       "version_major": 2,
       "version_minor": 0
      },
      "text/plain": [
       "Downloading:   0%|          | 0.00/523M [00:00<?, ?B/s]"
      ]
     },
     "metadata": {},
     "output_type": "display_data"
    },
    {
     "data": {
      "application/vnd.jupyter.widget-view+json": {
       "model_id": "59da017859a9416297f6d732e62745a4",
       "version_major": 2,
       "version_minor": 0
      },
      "text/plain": [
       "Downloading:   0%|          | 0.00/0.99M [00:00<?, ?B/s]"
      ]
     },
     "metadata": {},
     "output_type": "display_data"
    },
    {
     "data": {
      "application/vnd.jupyter.widget-view+json": {
       "model_id": "fe0e0514d10046848f4af7b9814587cb",
       "version_major": 2,
       "version_minor": 0
      },
      "text/plain": [
       "Downloading:   0%|          | 0.00/446k [00:00<?, ?B/s]"
      ]
     },
     "metadata": {},
     "output_type": "display_data"
    },
    {
     "data": {
      "application/vnd.jupyter.widget-view+json": {
       "model_id": "72b2ff6535a046709972cbb984f7d8e5",
       "version_major": 2,
       "version_minor": 0
      },
      "text/plain": [
       "Downloading:   0%|          | 0.00/1.29M [00:00<?, ?B/s]"
      ]
     },
     "metadata": {},
     "output_type": "display_data"
    }
   ],
   "source": [
    "generator = pipeline(task=\"text-generation\")"
   ]
  },
  {
   "cell_type": "code",
   "execution_count": 17,
   "id": "ac5811cc-4c6c-4c17-8b14-0b407eae9c28",
   "metadata": {},
   "outputs": [],
   "source": [
    "text = 'A long time ago,'"
   ]
  },
  {
   "cell_type": "code",
   "execution_count": 18,
   "id": "64cb87d0-2c45-4b86-b92d-0c74ed23f67a",
   "metadata": {},
   "outputs": [
    {
     "name": "stderr",
     "output_type": "stream",
     "text": [
      "Setting `pad_token_id` to `eos_token_id`:50256 for open-end generation.\n"
     ]
    },
    {
     "data": {
      "text/plain": [
       "[{'generated_text': \"A long time ago, she was working at the S.E.C.I. office in Moscow. There were five or six hundred KGB agents there and she believed that the world's greatest intelligence agency, the KGB, was behind the break-\"},\n",
       " {'generated_text': 'A long time ago, the world began dreaming of a world where dragons and dragons, who could fight, lived in peace. The good news is that most of the good times have ended.\\n\\nThe new world that we live in now is a'},\n",
       " {'generated_text': \"A long time ago, in the midlands, a small, wild people called the Wawe had settled. They became known as the Wawe Clan. We don't remember much about them because before being able to speak the word of W\"},\n",
       " {'generated_text': \"A long time ago, it would've been extremely difficult to get the power to play. After all, it was still an old time, since no such game ever existed. If you had a great opponent and you could beat her like this, then\"},\n",
       " {'generated_text': \"A long time ago, she thought about the old story: when people go out for a walk, they might see a black bear or a bear with ears that are just as big as their heads (I won't try to answer this question, because\"}]"
      ]
     },
     "execution_count": 18,
     "metadata": {},
     "output_type": "execute_result"
    }
   ],
   "source": [
    "generator(text,num_return_sequences=5)"
   ]
  },
  {
   "cell_type": "markdown",
   "id": "171f3121-1a2e-4511-a414-9334c79f48cc",
   "metadata": {
    "tags": []
   },
   "source": [
    "## Text Summarization"
   ]
  },
  {
   "cell_type": "code",
   "execution_count": 11,
   "id": "50e10f5b-5bbb-4395-9d9d-cbccb3b0d597",
   "metadata": {},
   "outputs": [],
   "source": [
    "ARTICLE = \"\"\" New York (CNN)When Liana Barrientos was 23 years old, she got married in Westchester County, New York.\n",
    "A year later, she got married again in Westchester County, but to a different man and without divorcing her first husband.\n",
    "Only 18 days after that marriage, she got hitched yet again. Then, Barrientos declared \"I do\" five more times, sometimes only within two weeks of each other.\n",
    "In 2010, she married once more, this time in the Bronx. In an application for a marriage license, she stated it was her \"first and only\" marriage.\n",
    "Barrientos, now 39, is facing two criminal counts of \"offering a false instrument for filing in the first degree,\" referring to her false statements on the\n",
    "2010 marriage license application, according to court documents.\n",
    "Prosecutors said the marriages were part of an immigration scam.\n",
    "On Friday, she pleaded not guilty at State Supreme Court in the Bronx, according to her attorney, Christopher Wright, who declined to comment further.\n",
    "After leaving court, Barrientos was arrested and charged with theft of service and criminal trespass for allegedly sneaking into the New York subway through an emergency exit, said Detective\n",
    "Annette Markowski, a police spokeswoman. In total, Barrientos has been married 10 times, with nine of her marriages occurring between 1999 and 2002.\n",
    "All occurred either in Westchester County, Long Island, New Jersey or the Bronx. She is believed to still be married to four men, and at one time, she was married to eight men at once, prosecutors say.\n",
    "Prosecutors said the immigration scam involved some of her husbands, who filed for permanent residence status shortly after the marriages.\n",
    "Any divorces happened only after such filings were approved. It was unclear whether any of the men will be prosecuted.\n",
    "The case was referred to the Bronx District Attorney\\'s Office by Immigration and Customs Enforcement and the Department of Homeland Security\\'s\n",
    "Investigation Division. Seven of the men are from so-called \"red-flagged\" countries, including Egypt, Turkey, Georgia, Pakistan and Mali.\n",
    "Her eighth husband, Rashid Rajput, was deported in 2006 to his native Pakistan after an investigation by the Joint Terrorism Task Force.\n",
    "If convicted, Barrientos faces up to four years in prison.  Her next court appearance is scheduled for May 18.\n",
    "\"\"\""
   ]
  },
  {
   "cell_type": "code",
   "execution_count": 12,
   "id": "22ac269a-f4f7-4221-88ef-9d7a5c33e2cd",
   "metadata": {},
   "outputs": [
    {
     "name": "stderr",
     "output_type": "stream",
     "text": [
      "No model was supplied, defaulted to sshleifer/distilbart-cnn-12-6 (https://huggingface.co/sshleifer/distilbart-cnn-12-6)\n"
     ]
    }
   ],
   "source": [
    "summarizer = pipeline(\"summarization\")"
   ]
  },
  {
   "cell_type": "code",
   "execution_count": 13,
   "id": "5048c08c-25e0-449f-88f5-b1587f10a1f0",
   "metadata": {},
   "outputs": [
    {
     "name": "stdout",
     "output_type": "stream",
     "text": [
      "[{'summary_text': ' Liana Barrientos, 39, is charged with two counts of \"offering a false instrument for filing in the first degree\" In total, she has been married 10 times, with nine of her marriages occurring between 1999 and 2002 . At one time, she was married to eight men at once, prosecutors say .'}]\n"
     ]
    }
   ],
   "source": [
    "print(summarizer(ARTICLE, max_length=130, min_length=30, do_sample=False))"
   ]
  }
 ],
 "metadata": {
  "kernelspec": {
   "display_name": "Python 3",
   "language": "python",
   "name": "python3"
  },
  "language_info": {
   "codemirror_mode": {
    "name": "ipython",
    "version": 3
   },
   "file_extension": ".py",
   "mimetype": "text/x-python",
   "name": "python",
   "nbconvert_exporter": "python",
   "pygments_lexer": "ipython3",
   "version": "3.9.10"
  }
 },
 "nbformat": 4,
 "nbformat_minor": 5
}
